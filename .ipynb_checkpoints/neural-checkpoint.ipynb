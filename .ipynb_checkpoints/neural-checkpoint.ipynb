{
 "cells": [
  {
   "cell_type": "code",
   "execution_count": 17,
   "id": "powerful-oracle",
   "metadata": {},
   "outputs": [],
   "source": [
    "import collections\n",
    "import pathlib\n",
    "import re\n",
    "import string\n",
    "import pickle\n",
    "import tensorflow as tf\n",
    "import pandas as pd\n",
    "import numpy as np\n",
    "import random\n",
    "\n",
    "from tensorflow.keras import layers\n",
    "from tensorflow.keras import losses\n",
    "from tensorflow.keras import preprocessing\n",
    "from tensorflow.keras import utils\n",
    "from tensorflow.keras.layers.experimental.preprocessing import TextVectorization\n",
    "\n",
    "import tensorflow_datasets as tfds\n",
    "import tensorflow_text as tf_text"
   ]
  },
  {
   "cell_type": "code",
   "execution_count": 18,
   "id": "geographic-olive",
   "metadata": {},
   "outputs": [],
   "source": [
    "from grabber import ChatBoxGrabber\n",
    "dataset = []\n",
    "for key, data in pickle.load(open('data.pickle', 'rb')).items():\n",
    "    dataset.append(tuple([data.message, data.user]))\n",
    "random.shuffle(dataset)"
   ]
  },
  {
   "cell_type": "code",
   "execution_count": 19,
   "id": "detected-neighbor",
   "metadata": {},
   "outputs": [],
   "source": [
    "for user in {pair[1] for pair in dataset}:\n",
    "    if sum([True for pair in dataset if pair[1] == user]) < 1000:\n",
    "        dataset = [pair for pair in dataset if not user == pair[1]]"
   ]
  },
  {
   "cell_type": "code",
   "execution_count": 20,
   "id": "union-release",
   "metadata": {},
   "outputs": [],
   "source": [
    "dataset = [pair for pair in dataset if len(pair[0]) < 200]"
   ]
  },
  {
   "cell_type": "code",
   "execution_count": 21,
   "id": "included-discussion",
   "metadata": {},
   "outputs": [],
   "source": [
    "messages = [pair[0] for pair in dataset]\n",
    "senders = [pair[1] for pair in dataset]"
   ]
  },
  {
   "cell_type": "code",
   "execution_count": 22,
   "id": "expensive-three",
   "metadata": {},
   "outputs": [],
   "source": [
    "vocab = {'':0}\n",
    "for message in messages:\n",
    "    for char in message:\n",
    "        if char not in vocab.keys():\n",
    "            vocab[char] = len(vocab)"
   ]
  },
  {
   "cell_type": "code",
   "execution_count": 23,
   "id": "hired-franklin",
   "metadata": {},
   "outputs": [],
   "source": [
    "userVocab = {}\n",
    "for user in senders:\n",
    "    if user not in userVocab.keys():\n",
    "            userVocab[user] = len(userVocab)\n",
    "senders = [userVocab[user] for user in senders]"
   ]
  },
  {
   "cell_type": "code",
   "execution_count": 36,
   "id": "athletic-juice",
   "metadata": {},
   "outputs": [],
   "source": [
    "def vectorize(string):\n",
    "    if not type(string) == str:\n",
    "        return [vectorize(str) for str in string]\n",
    "    ans=np.zeros(200, dtype = int)\n",
    "    for i in range(len(string)):\n",
    "        ans[i] = vocab[string[i]]\n",
    "    return ans\n",
    "#vectorize(messages[0])"
   ]
  },
  {
   "cell_type": "code",
   "execution_count": 25,
   "id": "hydraulic-savage",
   "metadata": {},
   "outputs": [
    {
     "data": {
      "text/plain": [
       "(99575, 200)"
      ]
     },
     "execution_count": 25,
     "metadata": {},
     "output_type": "execute_result"
    }
   ],
   "source": [
    "vectors = np.array([vectorize(message) for message in messages])\n",
    "#dataframe = pd.DataFrame({'x':messages, 'y':senders}).sample(frac=1).reset_index(drop=True)\n",
    "vectors.shape"
   ]
  },
  {
   "cell_type": "code",
   "execution_count": 26,
   "id": "lesbian-relevance",
   "metadata": {},
   "outputs": [],
   "source": [
    "test = tf.data.Dataset.from_tensor_slices((vectors[:10000], senders[:10000]))\n",
    "validate = tf.data.Dataset.from_tensor_slices((vectors[10000:30000], senders[10000:30000]))\n",
    "train = tf.data.Dataset.from_tensor_slices((vectors[30000:], senders[30000:]))"
   ]
  },
  {
   "cell_type": "code",
   "execution_count": 27,
   "id": "secure-applicant",
   "metadata": {},
   "outputs": [],
   "source": [
    "dataset = tf.data.Dataset.from_tensor_slices((messages, np.array(senders)))"
   ]
  },
  {
   "cell_type": "code",
   "execution_count": 28,
   "id": "legal-joyce",
   "metadata": {},
   "outputs": [],
   "source": [
    "model = tf.keras.Sequential([\n",
    "      layers.Embedding(len(vocab), 64, mask_zero=True),\n",
    "      layers.Conv1D(64, 5, padding=\"valid\", activation=\"relu\", strides=2),\n",
    "      layers.Conv1D(64, 5, padding=\"valid\", activation=\"relu\", strides=2),\n",
    "      layers.Conv1D(64, 5, padding=\"valid\", activation=\"relu\", strides=2),\n",
    "      layers.Conv1D(64, 5, padding=\"valid\", activation=\"relu\", strides=2),\n",
    "      layers.GlobalMaxPooling1D(),\n",
    "      layers.Dense(len({i for i in senders}))\n",
    "  ])\n",
    "model.compile(\n",
    "    loss=losses.SparseCategoricalCrossentropy(from_logits=True),\n",
    "    optimizer='adam',\n",
    "    metrics=['accuracy'])"
   ]
  },
  {
   "cell_type": "code",
   "execution_count": 29,
   "id": "exterior-colleague",
   "metadata": {},
   "outputs": [
    {
     "data": {
      "text/plain": [
       "<TensorSliceDataset shapes: ((200,), ()), types: (tf.int32, tf.int32)>"
      ]
     },
     "execution_count": 29,
     "metadata": {},
     "output_type": "execute_result"
    }
   ],
   "source": [
    "train"
   ]
  },
  {
   "cell_type": "code",
   "execution_count": 30,
   "id": "acting-swift",
   "metadata": {},
   "outputs": [
    {
     "name": "stdout",
     "output_type": "stream",
     "text": [
      "Epoch 1/10\n",
      "2175/2175 [==============================] - 30s 14ms/step - loss: 2.2377 - accuracy: 0.2333\n",
      "Epoch 2/10\n",
      "2175/2175 [==============================] - 32s 15ms/step - loss: 1.8882 - accuracy: 0.3724\n",
      "Epoch 3/10\n",
      "2175/2175 [==============================] - 32s 14ms/step - loss: 1.7667 - accuracy: 0.4057\n",
      "Epoch 4/10\n",
      "2175/2175 [==============================] - 32s 15ms/step - loss: 1.7023 - accuracy: 0.4281\n",
      "Epoch 5/10\n",
      "2175/2175 [==============================] - 32s 15ms/step - loss: 1.6487 - accuracy: 0.4413\n",
      "Epoch 6/10\n",
      "2175/2175 [==============================] - 32s 15ms/step - loss: 1.6027 - accuracy: 0.4555\n",
      "Epoch 7/10\n",
      "2175/2175 [==============================] - 32s 15ms/step - loss: 1.5589 - accuracy: 0.4728\n",
      "Epoch 8/10\n",
      "2175/2175 [==============================] - 32s 15ms/step - loss: 1.5153 - accuracy: 0.4871\n",
      "Epoch 9/10\n",
      "2175/2175 [==============================] - 32s 15ms/step - loss: 1.4791 - accuracy: 0.4986\n",
      "Epoch 10/10\n",
      "2175/2175 [==============================] - 32s 15ms/step - loss: 1.4482 - accuracy: 0.5087\n"
     ]
    },
    {
     "data": {
      "text/plain": [
       "<tensorflow.python.keras.callbacks.History at 0x25efc2a95b0>"
      ]
     },
     "execution_count": 30,
     "metadata": {},
     "output_type": "execute_result"
    }
   ],
   "source": [
    "model.fit(vectors[30000:].tolist(), senders[30000:], epochs=10)"
   ]
  },
  {
   "cell_type": "code",
   "execution_count": 31,
   "id": "driving-allergy",
   "metadata": {},
   "outputs": [
    {
     "name": "stdout",
     "output_type": "stream",
     "text": [
      "True\n",
      "True\n",
      "True\n",
      "True\n",
      "False\n",
      "True\n",
      "True\n",
      "True\n",
      "True\n",
      "False\n",
      "False\n",
      "False\n",
      "True\n",
      "True\n"
     ]
    },
    {
     "data": {
      "text/plain": [
       "4693"
      ]
     },
     "execution_count": 31,
     "metadata": {},
     "output_type": "execute_result"
    }
   ],
   "source": [
    "val = []\n",
    "for user in userVocab.values():\n",
    "    vects = []\n",
    "    for i in range(0, len(senders)):\n",
    "        if(senders[i] == user):\n",
    "            vects.append(vectors[i])\n",
    "    if len(vects) < 1000:\n",
    "        print(\"None!\")\n",
    "        continue\n",
    "    temp = sum(model.predict(np.array(random.sample(vects, 8))))\n",
    "    print(max(temp) == temp[user])\n",
    "    if not max(temp) == temp[user]:\n",
    "        val.append(len(vects))\n",
    "max(val)"
   ]
  },
  {
   "cell_type": "code",
   "execution_count": 40,
   "id": "applied-victory",
   "metadata": {},
   "outputs": [
    {
     "data": {
      "text/plain": [
       "array([  2.6109245 ,   3.1919065 ,  -0.14117494, -12.799496  ,\n",
       "        -4.9312677 ,  -8.419474  ,  -0.5565512 ,   9.837082  ,\n",
       "        11.354764  ,  -7.4957457 , -23.453403  , -15.742021  ,\n",
       "         0.7645676 ,   1.3965693 ], dtype=float32)"
      ]
     },
     "execution_count": 40,
     "metadata": {},
     "output_type": "execute_result"
    }
   ],
   "source": [
    "sum(model.predict(np.array(vectorize([\"\t@arsha :تیکه بود؟ :39:\", \"@Cripher :21::24:\", \"@Cripher تو حالت خوبه؟:21:\t\"]))))"
   ]
  },
  {
   "cell_type": "code",
   "execution_count": 33,
   "id": "trying-prague",
   "metadata": {},
   "outputs": [
    {
     "data": {
      "text/plain": [
       "{635: 0,\n",
       " 2903: 1,\n",
       " 2274: 2,\n",
       " 2454: 3,\n",
       " 3074: 4,\n",
       " 321: 5,\n",
       " 2905: 6,\n",
       " 2914: 7,\n",
       " 2803: 8,\n",
       " 1714: 9,\n",
       " 1034: 10,\n",
       " 2883: 11,\n",
       " 986: 12,\n",
       " 2210: 13}"
      ]
     },
     "execution_count": 33,
     "metadata": {},
     "output_type": "execute_result"
    }
   ],
   "source": [
    "userVocab"
   ]
  },
  {
   "cell_type": "code",
   "execution_count": 90,
   "id": "popular-transcript",
   "metadata": {},
   "outputs": [
    {
     "data": {
      "text/plain": [
       "2777"
      ]
     },
     "execution_count": 90,
     "metadata": {},
     "output_type": "execute_result"
    }
   ],
   "source": [
    "counter = 0\n",
    "for i in range(0, len(senders)):\n",
    "        if(senders[i] == 3):\n",
    "            counter +=1\n",
    "counter"
   ]
  }
 ],
 "metadata": {
  "kernelspec": {
   "display_name": "Python 3",
   "language": "python",
   "name": "python3"
  },
  "language_info": {
   "codemirror_mode": {
    "name": "ipython",
    "version": 3
   },
   "file_extension": ".py",
   "mimetype": "text/x-python",
   "name": "python",
   "nbconvert_exporter": "python",
   "pygments_lexer": "ipython3",
   "version": "3.8.2"
  }
 },
 "nbformat": 4,
 "nbformat_minor": 5
}
